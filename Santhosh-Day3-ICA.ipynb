{
 "cells": [
  {
   "cell_type": "markdown",
   "metadata": {},
   "source": [
    "### IF Statement "
   ]
  },
  {
   "cell_type": "markdown",
   "metadata": {},
   "source": [
    "### Problems:"
   ]
  },
  {
   "cell_type": "markdown",
   "metadata": {},
   "source": [
    "#### 1. x = 20 and y = 30 You want to write a python code for x is is less then y?"
   ]
  },
  {
   "cell_type": "raw",
   "metadata": {},
   "source": [
    "Assigning x equal to 20\n",
    "Assigning y equal to 30\n",
    "If condition x is less then y then go to step 4\n",
    "print x is less then y"
   ]
  },
  {
   "cell_type": "code",
   "execution_count": 1,
   "metadata": {},
   "outputs": [
    {
     "name": "stdout",
     "output_type": "stream",
     "text": [
      "x is less than y\n"
     ]
    }
   ],
   "source": [
    "x,y=20,30\n",
    "if x<y:\n",
    "    print('x is less than y')"
   ]
  },
  {
   "cell_type": "markdown",
   "metadata": {},
   "source": [
    "#### 2.The score for a certain Python course. The total score is 200, with 100 points for the theoritical work and 100 for practical. You want to display an error message or warning if the score exceeds 200."
   ]
  },
  {
   "cell_type": "raw",
   "metadata": {},
   "source": [
    "Variable theory is equal to 140\n",
    "variable practical is eqal to 145\n",
    "If condition for theory + practical greater than equal to 200 then go to step 4\n",
    "print invalid score"
   ]
  },
  {
   "cell_type": "code",
   "execution_count": 3,
   "metadata": {},
   "outputs": [
    {
     "name": "stdout",
     "output_type": "stream",
     "text": [
      "Invalid score\n"
     ]
    }
   ],
   "source": [
    "t=140\n",
    "p=145\n",
    "if (t+p)>=200:\n",
    "    print('Invalid score')"
   ]
  },
  {
   "cell_type": "markdown",
   "metadata": {},
   "source": [
    "# If-else Statement"
   ]
  },
  {
   "cell_type": "markdown",
   "metadata": {},
   "source": [
    "#### 1. Write a python code to check if a student has passed a subject based on a string input (Yes, No)"
   ]
  },
  {
   "cell_type": "raw",
   "metadata": {},
   "source": [
    "Create the variable is Subject = input is yes or no\n",
    "create If condition Subject == the string 'yes' then go to step 3, Else go to step 4\n",
    "print Cleared the test\n",
    "print Failed the test"
   ]
  },
  {
   "cell_type": "code",
   "execution_count": 4,
   "metadata": {},
   "outputs": [
    {
     "name": "stdout",
     "output_type": "stream",
     "text": [
      "Passed the subject(yes/no)? yes\n",
      "Cleared the test\n"
     ]
    }
   ],
   "source": [
    "a=str(input('Passed the subject(yes/no)? '))\n",
    "if a=='yes':\n",
    "    print('Cleared the test')\n",
    "else:\n",
    "    print('Failed the test')"
   ]
  },
  {
   "cell_type": "markdown",
   "metadata": {},
   "source": [
    "#### 2. Take the password as an input and check if it is equal to 'great'. Show a message accordingly. Write a python code for this."
   ]
  },
  {
   "cell_type": "raw",
   "metadata": {},
   "source": [
    "Create the variable name Password\n",
    "Assiging  the variable Password input equal to 'Enter the password'\n",
    "Create if condition Password == the string 'great' then go to step 3,Else go to step 5\n",
    "print the 'Password Accepted'\n",
    "print the 'The wrong Password'"
   ]
  },
  {
   "cell_type": "code",
   "execution_count": 6,
   "metadata": {},
   "outputs": [
    {
     "name": "stdout",
     "output_type": "stream",
     "text": [
      "Enter the password: great\n",
      "Password accepted\n"
     ]
    }
   ],
   "source": [
    "Password=str(input('Enter the password: '))\n",
    "if Password=='great':\n",
    "    print('Password accepted')\n",
    "else:\n",
    "    print('Wrong password')"
   ]
  },
  {
   "cell_type": "markdown",
   "metadata": {},
   "source": [
    "###  Nested if Statement"
   ]
  },
  {
   "cell_type": "markdown",
   "metadata": {},
   "source": [
    "### 1. Based on the users age, divide them in to three groups \n",
    "    Group 1 : Age <18 , Minors who are not eligible to work\n",
    "    Group 2 : 18<Age<60 , ELigible to work\n",
    "    Group 3 : >60, Too old to work as per govt. regulations. \n",
    "\n",
    "    Write a python code for the same"
   ]
  },
  {
   "cell_type": "raw",
   "metadata": {},
   "source": [
    "Create variable Name age eqaul to input \n",
    "if condition for age is < 18 go to step 3 , else go to step 5 \n",
    "print  Your Minor not Eligible to Work \n",
    "if condition for age >= 18 and age <= 60 go to step 5 , else go to step 6 \n",
    "print Your Eligible to Work fill in your details and apply \n",
    "print Your too old to work as per the Government rules  Please Collect your pension"
   ]
  },
  {
   "cell_type": "code",
   "execution_count": 10,
   "metadata": {},
   "outputs": [
    {
     "name": "stdout",
     "output_type": "stream",
     "text": [
      "Enter age: 12\n",
      "You are a minor, not eligible to work\n"
     ]
    }
   ],
   "source": [
    "age=int(input(\"Enter age: \"))\n",
    "if age<18:\n",
    "    print(\"You are a minor, not eligible to work\")\n",
    "elif age>=18 and age<=60:\n",
    "    print(\"Eligible to work\\nFill in your details and apply\")\n",
    "else:\n",
    "    print(\"Too old to work as per Govt. regulations\\nPlease collect your pension\")"
   ]
  },
  {
   "cell_type": "markdown",
   "metadata": {},
   "source": [
    "# While Loop"
   ]
  },
  {
   "cell_type": "markdown",
   "metadata": {},
   "source": [
    "### 1. Take an integer as input from the user and print all the numbers from 0 to that number in reverse order. \n",
    "\n",
    "    Example : if the input is 3, the output should be\n",
    "    3\n",
    "    2\n",
    "    1"
   ]
  },
  {
   "cell_type": "raw",
   "metadata": {},
   "source": [
    "Create the variable n\n",
    "n assigning the input values\n",
    "while loop condition for n is greater then zero then go to step 4\n",
    "n is decrement equal to one\n",
    "print the n"
   ]
  },
  {
   "cell_type": "code",
   "execution_count": 11,
   "metadata": {},
   "outputs": [
    {
     "name": "stdout",
     "output_type": "stream",
     "text": [
      "Enter a number5\n",
      "5\n",
      "4\n",
      "3\n",
      "2\n",
      "1\n"
     ]
    }
   ],
   "source": [
    "n=int(input(\"Enter a number\"))\n",
    "while n>0:\n",
    "    print(n)\n",
    "    n-=1"
   ]
  },
  {
   "cell_type": "markdown",
   "metadata": {},
   "source": [
    "### 2.  Write a python code to find the squares of all the numbers based on an input. \n",
    "\n",
    "    Example : If the input is 10, the output should be\n",
    "    1*1 ,2*2 ,3*3...... 10*10?"
   ]
  },
  {
   "cell_type": "raw",
   "metadata": {},
   "source": [
    "Create the variable i assigning to 1\n",
    "while loop condition of i if less then or equal to the 10 then go to step 3\n",
    "print the condition i ** 2\n",
    "increment the i equal to 1 here loop will happen untill reached to 10."
   ]
  },
  {
   "cell_type": "code",
   "execution_count": 14,
   "metadata": {},
   "outputs": [
    {
     "name": "stdout",
     "output_type": "stream",
     "text": [
      "Enter a number: 6\n",
      "1\n",
      "4\n",
      "9\n",
      "16\n",
      "25\n",
      "36\n"
     ]
    }
   ],
   "source": [
    "n=int(input(\"Enter a number: \"))\n",
    "i=1\n",
    "while i<=n:\n",
    "    print(i**2)\n",
    "    i+=1"
   ]
  },
  {
   "cell_type": "markdown",
   "metadata": {},
   "source": [
    "# For Loop"
   ]
  },
  {
   "cell_type": "markdown",
   "metadata": {},
   "source": [
    "### 1. Write a python code to print the multiplication table of a given number.\n",
    "\n",
    "    Example : if the number is 3, the output should print the below :  \n",
    "    3 X 1 = 3\n",
    "    3 X 2 = 6\n",
    "    ...\n",
    "    3 X 10 =30"
   ]
  },
  {
   "cell_type": "raw",
   "metadata": {},
   "source": [
    "Create a number and store it in a variableis n.\n",
    "For loop condition i in the range between (1,11) and go to step 3\n",
    "In print statement the condition is n,'x',i,'=' ,n*i and it will Print the multiplication tables of a given number.\n",
    "Exit."
   ]
  },
  {
   "cell_type": "code",
   "execution_count": 16,
   "metadata": {},
   "outputs": [
    {
     "name": "stdout",
     "output_type": "stream",
     "text": [
      "Enter which table:3\n",
      "3 * 1 = 3\n",
      "3 * 2 = 6\n",
      "3 * 3 = 9\n",
      "3 * 4 = 12\n",
      "3 * 5 = 15\n",
      "3 * 6 = 18\n",
      "3 * 7 = 21\n",
      "3 * 8 = 24\n",
      "3 * 9 = 27\n",
      "3 * 10 = 30\n"
     ]
    }
   ],
   "source": [
    "n=int(input(\"Enter which table:\"))\n",
    "for i in range(1,11):\n",
    "    print(n,\"*\",i,\"=\",i*n)"
   ]
  },
  {
   "cell_type": "markdown",
   "metadata": {},
   "source": [
    "#### 2. Write a python code to print squares of all numbers present in a list = [1, 12, 24, 36, 11, 20,50]\n"
   ]
  },
  {
   "cell_type": "raw",
   "metadata": {},
   "source": [
    "Create the list name numbers  =[1, 22, 14, 64, 31, 120]\n",
    "Create the variable name square assigning the value = to Zero\n",
    "For loop condition for i in the numbers then go to step 4\n",
    "Create the square equal to i * i  \n",
    "Print square"
   ]
  },
  {
   "cell_type": "code",
   "execution_count": 17,
   "metadata": {},
   "outputs": [
    {
     "name": "stdout",
     "output_type": "stream",
     "text": [
      "1\n",
      "144\n",
      "576\n",
      "1296\n",
      "121\n",
      "400\n",
      "2500\n"
     ]
    }
   ],
   "source": [
    "n=[1,12,24,36,11,20,50]\n",
    "square=0\n",
    "for i in n:\n",
    "    square=i**2\n",
    "    print(square)"
   ]
  },
  {
   "cell_type": "markdown",
   "metadata": {},
   "source": [
    "# Additional Practice Programs"
   ]
  },
  {
   "cell_type": "markdown",
   "metadata": {},
   "source": [
    "#### 1. Write a python program that takes a list  ['red','black','blue']  and prints each element in the list using whle loop"
   ]
  },
  {
   "cell_type": "code",
   "execution_count": 18,
   "metadata": {},
   "outputs": [
    {
     "name": "stdout",
     "output_type": "stream",
     "text": [
      "red\n",
      "black\n",
      "blue\n"
     ]
    }
   ],
   "source": [
    "colors=['red','black','blue']\n",
    "i=0\n",
    "while i<len(colors):\n",
    "    print(colors[i])\n",
    "    i+=1"
   ]
  },
  {
   "cell_type": "markdown",
   "metadata": {},
   "source": [
    "#### 2. Write the same program as above using a For loop?"
   ]
  },
  {
   "cell_type": "code",
   "execution_count": 19,
   "metadata": {},
   "outputs": [
    {
     "name": "stdout",
     "output_type": "stream",
     "text": [
      "red\n",
      "black\n",
      "blue\n"
     ]
    }
   ],
   "source": [
    "colors=['red','black','blue']\n",
    "for i in colors:\n",
    "    print(i)"
   ]
  },
  {
   "cell_type": "markdown",
   "metadata": {},
   "source": [
    "#### 3. Python Program to find the LCM of two numbers?"
   ]
  },
  {
   "cell_type": "code",
   "execution_count": 7,
   "metadata": {},
   "outputs": [
    {
     "name": "stdout",
     "output_type": "stream",
     "text": [
      "Enter number 1: 20\n",
      "Enter number 2: 10\n",
      "LCM is  20\n"
     ]
    }
   ],
   "source": [
    "a=int(input(\"Enter number 1: \"))\n",
    "b=int(input(\"Enter number 2: \"))\n",
    "\n",
    "if(a>b):\n",
    "    g=a\n",
    "else:\n",
    "    g=b\n",
    "while(1):\n",
    "    if g%a==0 and g%b==0:\n",
    "        print('LCM is ',g)\n",
    "        break\n",
    "    g+=1"
   ]
  },
  {
   "cell_type": "markdown",
   "metadata": {},
   "source": [
    "#### 4. The Python Program to print the pascal’s triangle for n number of rows given by the user."
   ]
  },
  {
   "cell_type": "code",
   "execution_count": null,
   "metadata": {},
   "outputs": [],
   "source": []
  },
  {
   "cell_type": "markdown",
   "metadata": {},
   "source": [
    "#### 5. Python Program to find the sum of series: 1 + 1/2 + 1/3 + ….. + 1/N."
   ]
  },
  {
   "cell_type": "code",
   "execution_count": null,
   "metadata": {},
   "outputs": [],
   "source": []
  },
  {
   "cell_type": "markdown",
   "metadata": {},
   "source": [
    "# List Comprehensions"
   ]
  },
  {
   "cell_type": "markdown",
   "metadata": {},
   "source": [
    "#### 1. The Python program for squares range (1-10) \n",
    "\n",
    "* output squares = [0, 1, 4, 9, 16, 25, 36, 49, 64, 81, 100]"
   ]
  },
  {
   "cell_type": "markdown",
   "metadata": {},
   "source": [
    "##### Create a code for the same question as above using a List comprehension"
   ]
  },
  {
   "cell_type": "code",
   "execution_count": 22,
   "metadata": {},
   "outputs": [
    {
     "data": {
      "text/plain": [
       "[1, 4, 9, 16, 25, 36, 49, 64, 81, 100]"
      ]
     },
     "execution_count": 22,
     "metadata": {},
     "output_type": "execute_result"
    }
   ],
   "source": [
    "[i**2 for i in range(1,11)]"
   ]
  },
  {
   "cell_type": "markdown",
   "metadata": {},
   "source": [
    "#### 2.Convert a list of integers to a list of strings. Use List comprehension?"
   ]
  },
  {
   "cell_type": "code",
   "execution_count": 24,
   "metadata": {},
   "outputs": [
    {
     "data": {
      "text/plain": [
       "['1', '2', '3', '4']"
      ]
     },
     "execution_count": 24,
     "metadata": {},
     "output_type": "execute_result"
    }
   ],
   "source": [
    "l=[1,2,3,4]\n",
    "[str(i) for i in l]"
   ]
  },
  {
   "cell_type": "markdown",
   "metadata": {},
   "source": [
    "#### 3. tuples from two lists with List Comprehensions?"
   ]
  },
  {
   "cell_type": "code",
   "execution_count": 6,
   "metadata": {
    "scrolled": true
   },
   "outputs": [
    {
     "data": {
      "text/plain": [
       "[(1, 2, 3), ('a', 'b', 'c')]"
      ]
     },
     "execution_count": 6,
     "metadata": {},
     "output_type": "execute_result"
    }
   ],
   "source": [
    "l=[1,2,3]\n",
    "l1=['a','b','c']\n",
    "[tuple(i) for i in (l,l1)]"
   ]
  },
  {
   "cell_type": "code",
   "execution_count": 1,
   "metadata": {},
   "outputs": [
    {
     "data": {
      "text/plain": [
       "[(1, 'a'),\n",
       " (1, 'b'),\n",
       " (1, 'c'),\n",
       " (2, 'a'),\n",
       " (2, 'b'),\n",
       " (2, 'c'),\n",
       " (3, 'a'),\n",
       " (3, 'b'),\n",
       " (3, 'c')]"
      ]
     },
     "execution_count": 1,
     "metadata": {},
     "output_type": "execute_result"
    }
   ],
   "source": [
    "l=[1,2,3]\n",
    "l1=['a','b','c']\n",
    "k=[(i,j) for i in (l) for j in l1]\n",
    "k"
   ]
  },
  {
   "cell_type": "markdown",
   "metadata": {},
   "source": [
    "#### 4. Get Index of Each Element of List with enumerate and List Comprehensions?"
   ]
  },
  {
   "cell_type": "code",
   "execution_count": 5,
   "metadata": {},
   "outputs": [
    {
     "data": {
      "text/plain": [
       "[(0, 'a'), (1, 'b'), (2, 'c')]"
      ]
     },
     "execution_count": 5,
     "metadata": {},
     "output_type": "execute_result"
    }
   ],
   "source": [
    "l=['a','b','c']\n",
    "[i for i in enumerate(l)]"
   ]
  },
  {
   "cell_type": "code",
   "execution_count": null,
   "metadata": {},
   "outputs": [],
   "source": []
  }
 ],
 "metadata": {
  "kernelspec": {
   "display_name": "Python 3",
   "language": "python",
   "name": "python3"
  },
  "language_info": {
   "codemirror_mode": {
    "name": "ipython",
    "version": 3
   },
   "file_extension": ".py",
   "mimetype": "text/x-python",
   "name": "python",
   "nbconvert_exporter": "python",
   "pygments_lexer": "ipython3",
   "version": "3.7.3"
  }
 },
 "nbformat": 4,
 "nbformat_minor": 2
}
