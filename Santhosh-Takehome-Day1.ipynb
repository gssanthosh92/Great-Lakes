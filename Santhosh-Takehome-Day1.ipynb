{
 "cells": [
  {
   "cell_type": "markdown",
   "metadata": {},
   "source": [
    "#### 1. Take two inputs from user and check whether they are equal or not."
   ]
  },
  {
   "cell_type": "code",
   "execution_count": 1,
   "metadata": {
    "scrolled": true
   },
   "outputs": [
    {
     "name": "stdout",
     "output_type": "stream",
     "text": [
      "5\n",
      "5\n"
     ]
    },
    {
     "data": {
      "text/plain": [
       "True"
      ]
     },
     "execution_count": 1,
     "metadata": {},
     "output_type": "execute_result"
    }
   ],
   "source": [
    "first=input()\n",
    "second=input()\n",
    "first==second"
   ]
  },
  {
   "cell_type": "markdown",
   "metadata": {},
   "source": [
    "#### 2. Take an single digit integer input from the user (3), print an output for (3+(33))\n"
   ]
  },
  {
   "cell_type": "code",
   "execution_count": 2,
   "metadata": {},
   "outputs": [
    {
     "name": "stdout",
     "output_type": "stream",
     "text": [
      "5\n",
      "60\n"
     ]
    }
   ],
   "source": [
    "a=input()\n",
    "n1=int(\"%s\"%a)\n",
    "n2=int(\"%s%s\"%(a,a))\n",
    "print(n1+n2)"
   ]
  },
  {
   "cell_type": "markdown",
   "metadata": {},
   "source": [
    "#### 3.  Write Python code to take an integer number and convert it to a float \n",
    "                   input: int number\n",
    "                   output: Float number"
   ]
  },
  {
   "cell_type": "code",
   "execution_count": 3,
   "metadata": {
    "scrolled": false
   },
   "outputs": [
    {
     "name": "stdout",
     "output_type": "stream",
     "text": [
      "57.0\n"
     ]
    }
   ],
   "source": [
    "a=57\n",
    "print(float(a))"
   ]
  },
  {
   "cell_type": "markdown",
   "metadata": {},
   "source": [
    "#### 4. Create a single string from a LIST of characters."
   ]
  },
  {
   "cell_type": "code",
   "execution_count": 4,
   "metadata": {},
   "outputs": [
    {
     "name": "stdout",
     "output_type": "stream",
     "text": [
      "['p', 'y', 't', 'h', 'o', 'n']\n",
      "python\n"
     ]
    }
   ],
   "source": [
    "l=['p','y','t','h','o','n']\n",
    "joined=''.join(l)\n",
    "print(l)\n",
    "print(joined)"
   ]
  },
  {
   "cell_type": "markdown",
   "metadata": {},
   "source": [
    "#### 5. From the below list, remove the element 'world'\n",
    "##### newlist = [\"Hello\",2,3,2,'world',2] "
   ]
  },
  {
   "cell_type": "code",
   "execution_count": 5,
   "metadata": {},
   "outputs": [
    {
     "name": "stdout",
     "output_type": "stream",
     "text": [
      "['Hello', 2, 3, 2, 2]\n"
     ]
    }
   ],
   "source": [
    "newlist=[\"Hello\",2,3,2,'world',2]\n",
    "newlist.remove('world')\n",
    "print(newlist)"
   ]
  },
  {
   "cell_type": "markdown",
   "metadata": {},
   "source": [
    "# If Statement"
   ]
  },
  {
   "cell_type": "markdown",
   "metadata": {},
   "source": [
    "#### 1. Write a pseudocode to check if 120 is greater than 73 using if statement?"
   ]
  },
  {
   "cell_type": "raw",
   "metadata": {},
   "source": [
    "1) Assign variable a as 73\n",
    "2) Assign variable b as 120\n",
    "3) If condition (b>a) is satisfied, than go to step 4\n",
    "4) Print 'b is greater than a'"
   ]
  },
  {
   "cell_type": "markdown",
   "metadata": {},
   "source": [
    "## IF-ELSE Statement:"
   ]
  },
  {
   "cell_type": "markdown",
   "metadata": {},
   "source": [
    "#### 1. Write a pseudocode which takes two numbers a = 123,b = 133 and prints the biggest number\n",
    "    condition 1 : b>a\n",
    "    condition 2 : else\n",
    "    print which is correct"
   ]
  },
  {
   "cell_type": "raw",
   "metadata": {},
   "source": [
    "1) Assign variable a as 123\n",
    "2) Assign variable b as 133\n",
    "3) If condition (b>a) is satisfied, then go to step 4, else go to step 5\n",
    "4) Print 'b is greater than a'\n",
    "5) Print 'a is greater than b'"
   ]
  },
  {
   "cell_type": "markdown",
   "metadata": {},
   "source": [
    "## Nested-If Statement"
   ]
  },
  {
   "cell_type": "markdown",
   "metadata": {},
   "source": [
    "#### 1. Problem:Write a pseudocode that takes an input from the user and shows if that number is positive or negative. Also, check if the number is two digit. "
   ]
  },
  {
   "cell_type": "raw",
   "metadata": {},
   "source": [
    "1) Take number input for 'num'\n",
    "2) If condition (num>0) is satisfied, then go to step 3, else go to step 4\n",
    "3) Print 'the number is positive'\n",
    "4) Print 'the number is negative'\n",
    "5) If another condition (-99<=num<=99) is satisfied, then go to step 6\n",
    "6) Print 'the number is also two digit'"
   ]
  },
  {
   "cell_type": "markdown",
   "metadata": {},
   "source": [
    "## While Loop"
   ]
  },
  {
   "cell_type": "markdown",
   "metadata": {},
   "source": [
    "#### 1. Write a pseudocode to give the below output\n",
    "    Input:10\n",
    "    Output:0,1,4,9,16,25,36,49,64,81"
   ]
  },
  {
   "cell_type": "raw",
   "metadata": {},
   "source": [
    "1) Take variable a=0\n",
    "2) While condition (a<10) is satisfied, then goto step 3\n",
    "3) Print condition is a**2\n",
    "4) Create increment a=a+1"
   ]
  },
  {
   "cell_type": "markdown",
   "metadata": {},
   "source": [
    "## For Loop"
   ]
  },
  {
   "cell_type": "markdown",
   "metadata": {},
   "source": [
    "#### 1. Use a range of 1 to 100 numbers and find out the sum of all the numbers between 1 and 100. \n",
    "    For the numbers in the range (1,100):1+2+3+4+5......+100 = 4950"
   ]
  },
  {
   "cell_type": "raw",
   "metadata": {},
   "source": [
    "1) Assign sum=0 \n",
    "2) For condition in range (1,100), than goto step 3\n",
    "3) sum=sum+value\n",
    "4) Print the sum"
   ]
  },
  {
   "cell_type": "code",
   "execution_count": 7,
   "metadata": {},
   "outputs": [
    {
     "name": "stdout",
     "output_type": "stream",
     "text": [
      "sum is: 4950\n"
     ]
    }
   ],
   "source": [
    "sum=0\n",
    "for i in range(1,100):\n",
    "    sum+=i\n",
    "print('sum is:',sum)"
   ]
  }
 ],
 "metadata": {
  "kernelspec": {
   "display_name": "Python 3",
   "language": "python",
   "name": "python3"
  },
  "language_info": {
   "codemirror_mode": {
    "name": "ipython",
    "version": 3
   },
   "file_extension": ".py",
   "mimetype": "text/x-python",
   "name": "python",
   "nbconvert_exporter": "python",
   "pygments_lexer": "ipython3",
   "version": "3.7.3"
  }
 },
 "nbformat": 4,
 "nbformat_minor": 2
}
