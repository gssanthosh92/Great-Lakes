{
 "cells": [
  {
   "cell_type": "markdown",
   "metadata": {},
   "source": [
    "# <center>PGP Data Science Engineering</center>\n",
    "## <center>Introduction to Programming – Mini Project:</center>\n"
   ]
  },
  {
   "cell_type": "markdown",
   "metadata": {},
   "source": [
    "### Problem 1:\n",
    "\n",
    "1. Write a program to calculate area of shapes. Your program should be capable of calculating the area of a square, rectangle, triangle and a circle. The user should be presented with options to select the shape. Based on which shape is chosed by the user, the program should ask for the appropriate input and print the resulting area on the screen.\n",
    "\n",
    "When the program is run, the screen should display something like this:\n",
    "\n",
    "**Which shape would you like to calculate the area for? Please enter the option number-**<br>\n",
    "**1. Square**<br>\n",
    "**2. Rectangle**<br>\n",
    "**3. Triangle**<br>\n",
    "**4. Circle**<br>\n",
    "**Enter Option: _**\n",
    "\n",
    "Say the user enters the option 1.\n",
    "\n",
    "**Please enter the length of a side: _**\n",
    "\n",
    "If the user enters a value of 5. The output should be:\n",
    "\n",
    "**The area of the square is 25**\n",
    "\n",
    "This program should indicate that the input is invalid if the user enters a character instead of a number as input. For instance if the user enters a value of ‘a’ instead of 5 in the previous example the program should prompt:\n",
    "\n",
    "**Invalid input, please enter a number: _**\n"
   ]
  },
  {
   "cell_type": "code",
   "execution_count": 5,
   "metadata": {},
   "outputs": [
    {
     "name": "stdout",
     "output_type": "stream",
     "text": [
      "Which shape would you like to calculate the area for? Please enter the option number-\n",
      "1. Square\n",
      "2. Rectangle\n",
      "3. Triangle\n",
      "4. Circle\n",
      "Enter Option: 6\n",
      "Invalid input, please enter a number:2\n",
      "Please enter the length:5\n",
      "Please enter the width:2\n",
      "The area of the rectangle is 10.0\n"
     ]
    }
   ],
   "source": [
    "a=int(input(\"Which shape would you like to calculate the area for? Please enter the option number-\\n1. Square\\n2. Rectangle\\n3. Triangle\\n4. Circle\\nEnter Option: \"))\n",
    "while (True):\n",
    "    if a==1:\n",
    "        s=float(input('Please enter the length of a side:'))\n",
    "        print('The area of the square is',s**2)\n",
    "        break\n",
    "    elif a==2:\n",
    "        l=float(input('Please enter the length:'))\n",
    "        w=float(input('Please enter the width:'))\n",
    "        print('The area of the rectangle is',l*w)\n",
    "        break\n",
    "    elif a==3:\n",
    "        b=float(input('Please enter the length of base:'))\n",
    "        h=float(input('Please enter the height:'))\n",
    "        print('The area of the triangle is',b*h/2)\n",
    "        break\n",
    "    elif a==4:\n",
    "        pi=3.14\n",
    "        r=float(input('Please enter the radius:'))\n",
    "        print('The area of the circle is',pi*r*r)\n",
    "        break\n",
    "    else:\n",
    "        a=int(input('Invalid input, please enter a number:'))"
   ]
  },
  {
   "cell_type": "markdown",
   "metadata": {},
   "source": [
    "### Problem 2:\n",
    "\n",
    "Create and encrypter in python based on the ceaser cipher. It is a substitution cipher where each character of the original text is shifted a certain number characters in the alphabet. Write a function that would require 2 arguments – the input text to be encrypted and a key. For eg: Given the input text ‘hello’ and the key 3, the resulting encryted text would be ‘khoor’. Here you can see that every character in the string hello is shifted by 3 characters. ‘h’ has shifted to ‘k’, ‘e’ has shifted to ‘h’ and so on. If a key of 5 were used, the resulting string would be ‘mjqqt’. This function should be capable of ignoring any characters which are not alphabets. Th2 character ‘z’ entered b\n",
    "y the user for a key of 3 would result in ‘c’.\n",
    "\n",
    "Usage:<br>\n",
    "**encrypt(‘hello world!’, 3)**<br>\n",
    "**‘khoor zruog!’**\n",
    "\n",
    "Similarly create decrypter which can decode the encryted text when provided the input text and key\n",
    "\n",
    "Usage:<br>\n",
    "**decrypt(‘khoor zruog!’, 3)**<br>\n",
    "**‘hello world!’**\n",
    "\n",
    "For the sake of simplicity you can assume that input solely consists of lowercase alphabets, spaces and punctuation symbols. Numbers in the input text would also be ignored similar to symbols."
   ]
  },
  {
   "cell_type": "code",
   "execution_count": 11,
   "metadata": {},
   "outputs": [
    {
     "name": "stdout",
     "output_type": "stream",
     "text": [
      "Encrypted: khoor zruog!\n",
      "Decrypted: hello world!\n"
     ]
    }
   ],
   "source": [
    "def encrypt(text,n):\n",
    "    alpha = 'abcdefghijklmnopqrstuvwxyz'\n",
    "    result=\"\"\n",
    "    for i in text:\n",
    "        if i in alpha:\n",
    "            j=(alpha.index(i)+n)%26\n",
    "            result+=alpha[j]\n",
    "        else:\n",
    "            result+=i    \n",
    "    return result\n",
    "def decrypt(text,n):\n",
    "    alpha = 'abcdefghijklmnopqrstuvwxyz'\n",
    "    result=\"\"\n",
    "    for i in text:\n",
    "        if i in alpha:\n",
    "            j=(alpha.index(i)-n)%26\n",
    "            result+=alpha[j]\n",
    "        else:\n",
    "            result+=i\n",
    "    return result\n",
    "encrypted = encrypt('hello world!',3)\n",
    "print('Encrypted:',encrypted)\n",
    "decrypted = decrypt(encrypted,3)\n",
    "print('Decrypted:',decrypted)"
   ]
  },
  {
   "cell_type": "code",
   "execution_count": null,
   "metadata": {},
   "outputs": [],
   "source": []
  }
 ],
 "metadata": {
  "kernelspec": {
   "display_name": "Python 3",
   "language": "python",
   "name": "python3"
  },
  "language_info": {
   "codemirror_mode": {
    "name": "ipython",
    "version": 3
   },
   "file_extension": ".py",
   "mimetype": "text/x-python",
   "name": "python",
   "nbconvert_exporter": "python",
   "pygments_lexer": "ipython3",
   "version": "3.7.3"
  }
 },
 "nbformat": 4,
 "nbformat_minor": 2
}
